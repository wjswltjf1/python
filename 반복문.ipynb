{
  "nbformat": 4,
  "nbformat_minor": 0,
  "metadata": {
    "colab": {
      "name": "Untitled9.ipynb",
      "provenance": [],
      "authorship_tag": "ABX9TyMuxrinF4Qn1YX+tnb/K/Uz",
      "include_colab_link": true
    },
    "kernelspec": {
      "name": "python3",
      "display_name": "Python 3"
    },
    "language_info": {
      "name": "python"
    }
  },
  "cells": [
    {
      "cell_type": "markdown",
      "metadata": {
        "id": "view-in-github",
        "colab_type": "text"
      },
      "source": [
        "<a href=\"https://colab.research.google.com/github/wjswltjf1/python/blob/main/%EB%B0%98%EB%B3%B5%EB%AC%B8.ipynb\" target=\"_parent\"><img src=\"https://colab.research.google.com/assets/colab-badge.svg\" alt=\"Open In Colab\"/></a>"
      ]
    },
    {
      "cell_type": "markdown",
      "metadata": {
        "id": "z8d7L-KZq0oV"
      },
      "source": [
        "### **학습목표**\n",
        "\n",
        "- 반복문의 이해 및 활용\n",
        "- 너무 빨리가서 못씀"
      ]
    },
    {
      "cell_type": "markdown",
      "metadata": {
        "id": "1_4eAFSUq9LD"
      },
      "source": [
        "### **for 반복문**\n",
        "- 리스트, 문자열 등을 순회하면서 값을 처리할떄 사용\n",
        "- i는 매번 문장을 수행할 떄마다 a 리스트 안의 값으로 순차적으로 변경된다\n",
        "- 모든 a 안의 값이 수행되면 for문의 블록은 종료된다\n",
        "\n",
        "```\n",
        "# 코드로 형식 지정됨\n",
        "```\n",
        "\n"
      ]
    },
    {
      "cell_type": "code",
      "metadata": {
        "colab": {
          "base_uri": "https://localhost:8080/"
        },
        "id": "8K_0ykVmrG6i",
        "outputId": "85c98667-fdcf-4077-90c0-121b02659d7a"
      },
      "source": [
        "a = [1,2,3,4,5] # 리스트\n",
        "\n",
        "for i in a:\n",
        "  print(i)"
      ],
      "execution_count": 1,
      "outputs": [
        {
          "output_type": "stream",
          "name": "stdout",
          "text": [
            "1\n",
            "2\n",
            "3\n",
            "4\n",
            "5\n"
          ]
        }
      ]
    },
    {
      "cell_type": "code",
      "metadata": {
        "colab": {
          "base_uri": "https://localhost:8080/"
        },
        "id": "fDkV0IGJrigc",
        "outputId": "b0e1601f-f6cf-41b3-8b5b-c137283ac8a8"
      },
      "source": [
        "#문자열에서 아이템을 출력해보기\n",
        "for x in \"Hello comnet B!\":\n",
        "  print(x)"
      ],
      "execution_count": 5,
      "outputs": [
        {
          "output_type": "stream",
          "name": "stdout",
          "text": [
            "H\n",
            "e\n",
            "l\n",
            "l\n",
            "o\n",
            " \n",
            "c\n",
            "o\n",
            "m\n",
            "n\n",
            "e\n",
            "t\n",
            " \n",
            "B\n",
            "!\n"
          ]
        }
      ]
    },
    {
      "cell_type": "code",
      "metadata": {
        "colab": {
          "base_uri": "https://localhost:8080/"
        },
        "id": "OI4JLrSU0Red",
        "outputId": "b1dbe629-839b-47f6-cdf9-bf260f9ebc31"
      },
      "source": [
        "# a 리스트 안의 수가 짝수면 그 수를 2로 나누고\n",
        "# 홀수일 경우 2를 곱한 수를 출력하시오\n",
        "\n",
        "a = [1,10,6,29,18,7] # 짝수와 홀수의 리스트\n",
        "\n",
        "for i in a:\n",
        "  if i % 2 == 0:\n",
        "    print(i//2)\n",
        "  else:\n",
        "    print(i*2)\n",
        "  "
      ],
      "execution_count": 8,
      "outputs": [
        {
          "output_type": "stream",
          "name": "stdout",
          "text": [
            "2\n",
            "5\n",
            "3\n",
            "58\n",
            "9\n",
            "14\n"
          ]
        }
      ]
    },
    {
      "cell_type": "markdown",
      "metadata": {
        "id": "7UKfIDpr2n2n"
      },
      "source": [
        "## **break**\n",
        "\n",
        "- 특정 조건을 만족할떄 그 블록을 빠져나오기 위해서 사용\n"
      ]
    },
    {
      "cell_type": "code",
      "metadata": {
        "colab": {
          "base_uri": "https://localhost:8080/"
        },
        "id": "y0O0oPFO2xHF",
        "outputId": "fa068f21-7858-4eec-ddbe-9d1f388db9cb"
      },
      "source": [
        "a = [1,10,6,29,18,7]\n",
        "\n",
        "for i in a:\n",
        "  if i>20:\n",
        "    print(i)\n",
        "    break"
      ],
      "execution_count": 10,
      "outputs": [
        {
          "output_type": "stream",
          "name": "stdout",
          "text": [
            "29\n"
          ]
        }
      ]
    },
    {
      "cell_type": "code",
      "metadata": {
        "colab": {
          "base_uri": "https://localhost:8080/"
        },
        "id": "tXFgplFt3AsO",
        "outputId": "8609e771-1376-43ac-bd0b-a319aca11524"
      },
      "source": [
        "t = int(input())\n",
        "\n",
        "for i in range(t):\n",
        "  a,b = input().split()\n",
        "  a = int(a)\n",
        "  b = int(b)\n",
        "  print(a+b)"
      ],
      "execution_count": 31,
      "outputs": [
        {
          "output_type": "stream",
          "name": "stdout",
          "text": [
            "1\n",
            "1 1\n",
            "2\n"
          ]
        }
      ]
    },
    {
      "cell_type": "markdown",
      "metadata": {
        "id": "PKrM_HGDCdUN"
      },
      "source": [
        "### **contiune**\n",
        "\n",
        "- 해당 아이템을 건너뛰고 싶을떄 사용\n"
      ]
    },
    {
      "cell_type": "code",
      "metadata": {
        "colab": {
          "base_uri": "https://localhost:8080/"
        },
        "id": "ATpNmssHCqNT",
        "outputId": "ba9227a8-103d-4ac3-c6d8-1fdff67c5090"
      },
      "source": [
        "a = [3,9,7,29,18]\n",
        "\n",
        "for i in a:\n",
        "  if i>5 and i < 20:\n",
        "    continue\n",
        "  print(i)"
      ],
      "execution_count": 35,
      "outputs": [
        {
          "output_type": "stream",
          "name": "stdout",
          "text": [
            "3\n",
            "29\n"
          ]
        }
      ]
    },
    {
      "cell_type": "markdown",
      "metadata": {
        "id": "qZ5fmP1iEcrt"
      },
      "source": [
        "### **range**\n",
        "\n",
        "- 리스트 혹은 큐플을 쉽게 만들수 있는 내장 함수\n",
        "- 주어진 값에 따라 다양한 결과를 반환\n",
        "\n",
        "```python\\\n",
        "range(10)           -> [1,2,3,4,5,6,7,8,9]\n",
        "range(2,10)         -> [2,3,4,5,6,7,8,9]\n",
        "range(2,10,3)       -> [2,5,8]\n",
        "```\n"
      ]
    },
    {
      "cell_type": "code",
      "metadata": {
        "colab": {
          "base_uri": "https://localhost:8080/"
        },
        "id": "eF1Eokx6EnVk",
        "outputId": "65bdc88b-222e-4a7d-d6e8-b804202d1e1a"
      },
      "source": [
        "print(list(range(10)))\n",
        "print(list(range(2,10)))\n",
        "print(list(range(2,10,3)))"
      ],
      "execution_count": 39,
      "outputs": [
        {
          "output_type": "stream",
          "name": "stdout",
          "text": [
            "[0, 1, 2, 3, 4, 5, 6, 7, 8, 9]\n",
            "[2, 3, 4, 5, 6, 7, 8, 9]\n",
            "[2, 5, 8]\n"
          ]
        }
      ]
    },
    {
      "cell_type": "markdown",
      "metadata": {
        "id": "67AUHNAoF5RU"
      },
      "source": [
        "## **구구단 출력하기**\n",
        "\n",
        "- 2단부터 9단까지\n",
        "- 각 단은 1부터9까지 곱하도록\n",
        "\n",
        "> [2단]\n",
        ">2 * 1 = 2\n",
        ">2 * 2 = 4\n",
        ">.......\n",
        ">2 * 9 = 18\n",
        "> - 총9단까지 출력"
      ]
    },
    {
      "cell_type": "code",
      "metadata": {
        "colab": {
          "base_uri": "https://localhost:8080/"
        },
        "id": "oRhLVWmDGbTn",
        "outputId": "28e47fe6-c19b-4d56-f457-97714c8f99ff"
      },
      "source": [
        "print('구구단 출력하기\\n')\n",
        "for i in range(2,10):\n",
        "  print('[',i,'단 ]')\n",
        "  for i in range(1,10):\n",
        "    print('2 *', i, '=' ,2 * i)\n",
        "  print()"
      ],
      "execution_count": 61,
      "outputs": [
        {
          "output_type": "stream",
          "name": "stdout",
          "text": [
            "구구단 출력하기\n",
            "\n",
            "[ 2 단 ]\n",
            "2 * 1 = 2\n",
            "2 * 2 = 4\n",
            "2 * 3 = 6\n",
            "2 * 4 = 8\n",
            "2 * 5 = 10\n",
            "2 * 6 = 12\n",
            "2 * 7 = 14\n",
            "2 * 8 = 16\n",
            "2 * 9 = 18\n",
            "\n",
            "[ 3 단 ]\n",
            "2 * 1 = 2\n",
            "2 * 2 = 4\n",
            "2 * 3 = 6\n",
            "2 * 4 = 8\n",
            "2 * 5 = 10\n",
            "2 * 6 = 12\n",
            "2 * 7 = 14\n",
            "2 * 8 = 16\n",
            "2 * 9 = 18\n",
            "\n",
            "[ 4 단 ]\n",
            "2 * 1 = 2\n",
            "2 * 2 = 4\n",
            "2 * 3 = 6\n",
            "2 * 4 = 8\n",
            "2 * 5 = 10\n",
            "2 * 6 = 12\n",
            "2 * 7 = 14\n",
            "2 * 8 = 16\n",
            "2 * 9 = 18\n",
            "\n",
            "[ 5 단 ]\n",
            "2 * 1 = 2\n",
            "2 * 2 = 4\n",
            "2 * 3 = 6\n",
            "2 * 4 = 8\n",
            "2 * 5 = 10\n",
            "2 * 6 = 12\n",
            "2 * 7 = 14\n",
            "2 * 8 = 16\n",
            "2 * 9 = 18\n",
            "\n",
            "[ 6 단 ]\n",
            "2 * 1 = 2\n",
            "2 * 2 = 4\n",
            "2 * 3 = 6\n",
            "2 * 4 = 8\n",
            "2 * 5 = 10\n",
            "2 * 6 = 12\n",
            "2 * 7 = 14\n",
            "2 * 8 = 16\n",
            "2 * 9 = 18\n",
            "\n",
            "[ 7 단 ]\n",
            "2 * 1 = 2\n",
            "2 * 2 = 4\n",
            "2 * 3 = 6\n",
            "2 * 4 = 8\n",
            "2 * 5 = 10\n",
            "2 * 6 = 12\n",
            "2 * 7 = 14\n",
            "2 * 8 = 16\n",
            "2 * 9 = 18\n",
            "\n",
            "[ 8 단 ]\n",
            "2 * 1 = 2\n",
            "2 * 2 = 4\n",
            "2 * 3 = 6\n",
            "2 * 4 = 8\n",
            "2 * 5 = 10\n",
            "2 * 6 = 12\n",
            "2 * 7 = 14\n",
            "2 * 8 = 16\n",
            "2 * 9 = 18\n",
            "\n",
            "[ 9 단 ]\n",
            "2 * 1 = 2\n",
            "2 * 2 = 4\n",
            "2 * 3 = 6\n",
            "2 * 4 = 8\n",
            "2 * 5 = 10\n",
            "2 * 6 = 12\n",
            "2 * 7 = 14\n",
            "2 * 8 = 16\n",
            "2 * 9 = 18\n",
            "\n"
          ]
        }
      ]
    },
    {
      "cell_type": "code",
      "metadata": {
        "id": "QASeOvyaG6Y0"
      },
      "source": [
        ""
      ],
      "execution_count": null,
      "outputs": []
    }
  ]
}