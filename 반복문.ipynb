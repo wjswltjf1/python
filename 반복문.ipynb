{
  "nbformat": 4,
  "nbformat_minor": 0,
  "metadata": {
    "colab": {
      "name": "Untitled6.ipynb",
      "provenance": [],
      "authorship_tag": "ABX9TyO8Y0apIi5waJ2OEJCY5r6T",
      "include_colab_link": true
    },
    "kernelspec": {
      "name": "python3",
      "display_name": "Python 3"
    },
    "language_info": {
      "name": "python"
    }
  },
  "cells": [
    {
      "cell_type": "markdown",
      "metadata": {
        "id": "view-in-github",
        "colab_type": "text"
      },
      "source": [
        "<a href=\"https://colab.research.google.com/github/wjswltjf1/python/blob/main/%EB%B0%98%EB%B3%B5%EB%AC%B8.ipynb\" target=\"_parent\"><img src=\"https://colab.research.google.com/assets/colab-badge.svg\" alt=\"Open In Colab\"/></a>"
      ]
    },
    {
      "cell_type": "markdown",
      "metadata": {
        "id": "Eh8YtpsS3tjY"
      },
      "source": [
        "### **학습목표**\n",
        "\n",
        "- 반복문의 이해 및 활용(for)\n",
        "- range 함수 이해"
      ]
    },
    {
      "cell_type": "markdown",
      "metadata": {
        "id": "9hOJK2zB4PPk"
      },
      "source": [
        "### **for 반복문**\n",
        "- 리스트, 문자열 등 순회 가능한 것들의 값을 처리할때 사용\n",
        "- i는 매번 수행될때마다 a 안의 값으로 순차적으로 변경이 된다.\n",
        "- 모든 a안의 값이 수행되면 for문 블록이 종료"
      ]
    },
    {
      "cell_type": "code",
      "metadata": {
        "colab": {
          "base_uri": "https://localhost:8080/"
        },
        "id": "uYMHT_oV3-AH",
        "outputId": "e0b6ddd9-2afc-48d2-ef2d-d6954ba1ef76"
      },
      "source": [
        "a = [1,2,3,4,5]\n",
        "\n",
        "for i in a:\n",
        "  print(i,1*2)\n",
        "print('i 최종값 : ',i)"
      ],
      "execution_count": 2,
      "outputs": [
        {
          "output_type": "stream",
          "name": "stdout",
          "text": [
            "1 2\n",
            "2 2\n",
            "3 2\n",
            "4 2\n",
            "5 2\n",
            "i 최종값 :  5\n"
          ]
        }
      ]
    },
    {
      "cell_type": "code",
      "metadata": {
        "colab": {
          "base_uri": "https://localhost:8080/"
        },
        "id": "p7brNTEx40m_",
        "outputId": "fff98306-fbde-4fa7-a648-bd964b8f55ea"
      },
      "source": [
        "#문자열의 아이템 출력하기\n",
        "\n",
        "for x  in 'hello world' :\n",
        "  print(x)"
      ],
      "execution_count": 4,
      "outputs": [
        {
          "output_type": "stream",
          "name": "stdout",
          "text": [
            "h\n",
            "e\n",
            "l\n",
            "l\n",
            "o\n",
            " \n",
            "w\n",
            "o\n",
            "r\n",
            "l\n",
            "d\n"
          ]
        }
      ]
    },
    {
      "cell_type": "code",
      "metadata": {
        "colab": {
          "base_uri": "https://localhost:8080/"
        },
        "id": "g-KJIMa-_gxH",
        "outputId": "0d30c0a7-f56d-4776-fdb4-3cf411ad9a66"
      },
      "source": [
        "a = [1, 10, 7, 29, 18]\n",
        "\n",
        "for i in a :\n",
        "  if i % 2 == 0: #짝수\n",
        "    print(i/2)\n",
        "  else :\n",
        "    print(i*2)"
      ],
      "execution_count": 5,
      "outputs": [
        {
          "output_type": "stream",
          "name": "stdout",
          "text": [
            "2\n",
            "5.0\n",
            "14\n",
            "58\n",
            "9.0\n"
          ]
        }
      ]
    },
    {
      "cell_type": "markdown",
      "metadata": {
        "id": "pHO_vfoBA2Nj"
      },
      "source": [
        "###**break**\n",
        "- 특정 조건을 만족할떄 for을 빠져 나오기 위해 사용"
      ]
    },
    {
      "cell_type": "code",
      "metadata": {
        "colab": {
          "base_uri": "https://localhost:8080/"
        },
        "id": "3TcIqD9IA_3c",
        "outputId": "c82c9651-3320-4d22-dea2-7d55110476aa"
      },
      "source": [
        "# a = [1, 10, 7, 29, 18]\n",
        "\n",
        "for i in a :\n",
        "  if i > 20 :\n",
        "    break\n",
        "\n",
        "print(i)"
      ],
      "execution_count": 7,
      "outputs": [
        {
          "output_type": "stream",
          "name": "stdout",
          "text": [
            "29\n"
          ]
        }
      ]
    },
    {
      "cell_type": "markdown",
      "metadata": {
        "id": "apPHw5BfBxMg"
      },
      "source": [
        "###**continue**\n",
        "- 해당 아이템을 건너 뛰고 싶을떄 사용"
      ]
    },
    {
      "cell_type": "code",
      "metadata": {
        "colab": {
          "base_uri": "https://localhost:8080/"
        },
        "id": "zttmvS3OB8cP",
        "outputId": "e40b4fb0-e854-4528-bf10-9754d19947c7"
      },
      "source": [
        "a = [3, 9, 7, 29, 18]\n",
        "\n",
        "for i in a :\n",
        "  if i>5 and i<20 :\n",
        "    continue\n",
        "  print(i)"
      ],
      "execution_count": 18,
      "outputs": [
        {
          "output_type": "stream",
          "name": "stdout",
          "text": [
            "3\n",
            "29\n"
          ]
        }
      ]
    },
    {
      "cell_type": "code",
      "metadata": {
        "id": "bvmrbk8HCOpP"
      },
      "source": [
        ""
      ],
      "execution_count": null,
      "outputs": []
    }
  ]
}