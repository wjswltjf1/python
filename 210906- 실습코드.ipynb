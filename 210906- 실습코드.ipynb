{
  "nbformat": 4,
  "nbformat_minor": 0,
  "metadata": {
    "colab": {
      "name": "Untitled8.ipynb",
      "provenance": [],
      "authorship_tag": "ABX9TyPgD6K2VR7A1z/kLHb83D9U",
      "include_colab_link": true
    },
    "kernelspec": {
      "name": "python3",
      "display_name": "Python 3"
    },
    "language_info": {
      "name": "python"
    }
  },
  "cells": [
    {
      "cell_type": "markdown",
      "metadata": {
        "id": "view-in-github",
        "colab_type": "text"
      },
      "source": [
        "<a href=\"https://colab.research.google.com/github/wjswltjf1/python/blob/main/210906-%20%EC%8B%A4%EC%8A%B5%EC%BD%94%EB%93%9C.ipynb\" target=\"_parent\"><img src=\"https://colab.research.google.com/assets/colab-badge.svg\" alt=\"Open In Colab\"/></a>"
      ]
    },
    {
      "cell_type": "code",
      "metadata": {
        "colab": {
          "base_uri": "https://localhost:8080/"
        },
        "id": "W7QWAj76cqtc",
        "outputId": "ceee650f-a7c6-4533-fd8a-f7fa869e3e88"
      },
      "source": [
        "#2. 두 정수 A와 B를 입력받은 다음, A+B를 출력하는 프로그램을 작성하시오.\n",
        "a,b = input().split()\n",
        "a = int(a)\n",
        "b = int(b)\n",
        "\n",
        "print(a+b)"
      ],
      "execution_count": 9,
      "outputs": [
        {
          "output_type": "stream",
          "name": "stdout",
          "text": [
            "1 2\n",
            "3\n"
          ]
        }
      ]
    },
    {
      "cell_type": "code",
      "metadata": {
        "colab": {
          "base_uri": "https://localhost:8080/"
        },
        "id": "xenteUKActlH",
        "outputId": "f6d2c95c-37cc-458f-fe09-e53631c9083e"
      },
      "source": [
        "#1. Hello World!를 출력하시오.\n",
        "\n",
        "print(\"Hello World!\")"
      ],
      "execution_count": 4,
      "outputs": [
        {
          "output_type": "stream",
          "name": "stdout",
          "text": [
            "Hello World!\n"
          ]
        }
      ]
    },
    {
      "cell_type": "code",
      "metadata": {
        "colab": {
          "base_uri": "https://localhost:8080/"
        },
        "id": "BL46Z1Esdhmf",
        "outputId": "2a7e3f74-cb3e-4687-92bc-747e48d0f20b"
      },
      "source": [
        "#3.\n",
        "\n",
        "\n",
        "A, B = input().split()\n",
        "\n",
        "A=int(A)\n",
        "B=int(B)\n",
        "\n",
        "print(A+B)\n",
        "print(A-B)\n",
        "print(A*B)\n",
        "print(A//B)\n",
        "print(A%B)"
      ],
      "execution_count": 36,
      "outputs": [
        {
          "output_type": "stream",
          "name": "stdout",
          "text": [
            "1 2\n",
            "3\n",
            "-1\n",
            "2\n",
            "0\n",
            "1\n"
          ]
        }
      ]
    },
    {
      "cell_type": "code",
      "metadata": {
        "colab": {
          "base_uri": "https://localhost:8080/"
        },
        "id": "B9MxgJmneDHm",
        "outputId": "7b1e6ec6-d45f-4c01-bafb-910cf7c1be08"
      },
      "source": [
        "#4. 시험 점수를 입력받아 90 ~ 100점은 A, 80 ~ 89점은 B, 70 ~ 79점은 C, 60 ~ 69점은 D, 나머지 점수는 F를 출력하는 프로그램을 작성하시오.\n",
        "\n",
        "a = int(input())\n",
        "\n",
        "if a >= 90:\n",
        "  print(\"A\")\n",
        "elif a >= 80:\n",
        "  print(\"B\")\n",
        "elif a >= 70:\n",
        "  print(\"C\")\n",
        "elif a >= 60:\n",
        "  print(\"D\")\n",
        "else :\n",
        "   print(\"F\")"
      ],
      "execution_count": 23,
      "outputs": [
        {
          "output_type": "stream",
          "name": "stdout",
          "text": [
            "85\n",
            "B\n"
          ]
        }
      ]
    },
    {
      "cell_type": "code",
      "metadata": {
        "colab": {
          "base_uri": "https://localhost:8080/"
        },
        "id": "38BtLt6clSLF",
        "outputId": "c8d82456-3439-437b-ed4a-4c9ee1945054"
      },
      "source": [
        "#5. 두 정수 A와 B가 주어졌을 때, A와 B를 비교하는 프로그램을 작성하시오.  **if문**\n",
        "\n",
        "a,b = input().split()\n",
        "\n",
        "a= int(a)\n",
        "b= int(b)\n",
        "\n",
        "if a < b:\n",
        "  print(\"<\")\n",
        "elif a > b:\n",
        "  print(\">\")\n",
        "else :\n",
        "  print(\"==\")\n"
      ],
      "execution_count": 35,
      "outputs": [
        {
          "output_type": "stream",
          "name": "stdout",
          "text": [
            "5 1\n",
            ">\n"
          ]
        }
      ]
    },
    {
      "cell_type": "code",
      "metadata": {
        "id": "i_OixQmFqZFc"
      },
      "source": [
        ""
      ],
      "execution_count": null,
      "outputs": []
    }
  ]
}