{
  "nbformat": 4,
  "nbformat_minor": 0,
  "metadata": {
    "colab": {
      "name": "Untitled0.ipynb",
      "provenance": [],
      "authorship_tag": "ABX9TyMGiQgovO46nqkjcn75sTBv",
      "include_colab_link": true
    },
    "kernelspec": {
      "name": "python3",
      "display_name": "Python 3"
    },
    "language_info": {
      "name": "python"
    }
  },
  "cells": [
    {
      "cell_type": "markdown",
      "metadata": {
        "id": "view-in-github",
        "colab_type": "text"
      },
      "source": [
        "<a href=\"https://colab.research.google.com/github/wjswltjf1/python/blob/main/Untitled0.ipynb\" target=\"_parent\"><img src=\"https://colab.research.google.com/assets/colab-badge.svg\" alt=\"Open In Colab\"/></a>"
      ]
    },
    {
      "cell_type": "code",
      "metadata": {
        "id": "PTwNCM7bbObn"
      },
      "source": [
        ""
      ],
      "execution_count": null,
      "outputs": []
    },
    {
      "cell_type": "markdown",
      "metadata": {
        "id": "IJo0U05fbvGf"
      },
      "source": [
        "###**학습목표**\n",
        "\n",
        "1. python 언어에서 변수의 의미를 이해하기\n",
        "2. 기본 데이터 타입을 선언하기(int,float,str,bool)\n",
        "\n",
        "더블클릭 또는 Enter 키를 눌러 수정"
      ]
    },
    {
      "cell_type": "code",
      "metadata": {
        "id": "aXLnHR2Vbr1X"
      },
      "source": [
        ""
      ],
      "execution_count": null,
      "outputs": []
    },
    {
      "cell_type": "markdown",
      "metadata": {
        "id": "ppVJDVatc2Pj"
      },
      "source": [
        "### ***대입연산자***\n",
        "\n",
        "1.\n",
        "\n",
        "*   대입의 경우, 오른쪽의 수식이나 값을 계산한 뒤, 왼쪽 변수에 값을 대입\n",
        "*   변수는 해당 값을 가지게 된다\n",
        "\n"
      ]
    },
    {
      "cell_type": "code",
      "metadata": {
        "id": "KTNKfqZrdV8p"
      },
      "source": [
        "a = 10 #int\n",
        "b = 11.4 #f loat"
      ],
      "execution_count": null,
      "outputs": []
    },
    {
      "cell_type": "code",
      "metadata": {
        "colab": {
          "base_uri": "https://localhost:8080/"
        },
        "id": "r2X8dxmtdmlo",
        "outputId": "fbc4f864-da4e-474a-9a6c-f924a2105284"
      },
      "source": [
        "print(a)"
      ],
      "execution_count": null,
      "outputs": [
        {
          "output_type": "stream",
          "text": [
            "10\n"
          ],
          "name": "stdout"
        }
      ]
    },
    {
      "cell_type": "code",
      "metadata": {
        "id": "JWu5aM7wdoQQ"
      },
      "source": [
        ""
      ],
      "execution_count": null,
      "outputs": []
    },
    {
      "cell_type": "markdown",
      "metadata": {
        "id": "zJByppOTerIz"
      },
      "source": [
        "### ***주석(comment)***\n",
        "* 코드에서 #으로 시작하는 뒷부분은 실행 안함\n",
        "*python이 실행할때 #만나면 무시\n",
        "*개발자(사람)이 보기 위한 용도로 사용"
      ]
    },
    {
      "cell_type": "code",
      "metadata": {
        "id": "9jUGD1q5fFcy"
      },
      "source": [
        "#상록이 수학점수\n",
        "#지우지 마세요\n",
        "math = 11\n",
        "engl = 57.8"
      ],
      "execution_count": null,
      "outputs": []
    },
    {
      "cell_type": "markdown",
      "metadata": {
        "id": "7sFdO1GwgV_L"
      },
      "source": [
        "### **pr int 함수**\n",
        "* 함수란 특정 기능을 반복적으로 호출하여 사용 가능한 코드블럭\n",
        "* 해당 변수 값이 출력\n",
        "* 기분적으로는 한칸 띄어쓰기 후 출력"
      ]
    },
    {
      "cell_type": "code",
      "metadata": {
        "colab": {
          "base_uri": "https://localhost:8080/"
        },
        "id": "aqrFsTRugiwA",
        "outputId": "2f17b823-3a66-4223-9f15-0d859de350ee"
      },
      "source": [
        "print(a,b)"
      ],
      "execution_count": null,
      "outputs": [
        {
          "output_type": "stream",
          "text": [
            "10 11.4\n"
          ],
          "name": "stdout"
        }
      ]
    },
    {
      "cell_type": "code",
      "metadata": {
        "colab": {
          "base_uri": "https://localhost:8080/"
        },
        "id": "I1FTyAITgxR6",
        "outputId": "3b745a9e-24e3-4e66-898c-378ddba83783"
      },
      "source": [
        "print(engl, 20, \"하영썜\")"
      ],
      "execution_count": null,
      "outputs": [
        {
          "output_type": "stream",
          "text": [
            "57.8 20 하영썜\n"
          ],
          "name": "stdout"
        }
      ]
    },
    {
      "cell_type": "code",
      "metadata": {
        "id": "puMOyNwbhId5"
      },
      "source": [
        "  "
      ],
      "execution_count": null,
      "outputs": []
    },
    {
      "cell_type": "markdown",
      "metadata": {
        "id": "uZ8zwClihuht"
      },
      "source": [
        "#### **변수 값 확인 방법**\n",
        "1. print() 함수 사용\n",
        "2.변수 값을 코드의 마지막에 위치 시킨 후 실햏\n",
        " - 이경우 변수의 값이 출력된다"
      ]
    },
    {
      "cell_type": "markdown",
      "metadata": {
        "id": "TQQWwafRjN6O"
      },
      "source": [
        ""
      ]
    },
    {
      "cell_type": "markdown",
      "metadata": {
        "id": "zPO4JRlojUkK"
      },
      "source": [
        "### **변수 이용 규칙**\n",
        "  * 숫자로 시작하는 이름을 제외하고 영문 대소문자,_, 숫자로 구성 가능*변수 이용 규칙**\n",
        "    * 숫자로 시작하는 이름을 제외하고 영문 대소문자,_, 숫자로 구성 가능\n",
        "     - 숫자로 시작은 안된다!\n",
        "     *일반적으로 변수를 표현할떄 정확하고 간결한 이름을 사용하여 쉽게 이해하도록 설정한다\n",
        "     - 예)a=900 hy_student_num = 900 으로 명시하는 것이 이해가 빠르다."
      ]
    },
    {
      "cell_type": "code",
      "metadata": {
        "id": "fU8XPFH0knfM"
      },
      "source": [
        "abAB = 100\n",
        "#4_num = 10 # 숫자로 시작하여 실행 안됨\n",
        "ABab = 200\n",
        "_right = 800"
      ],
      "execution_count": null,
      "outputs": []
    },
    {
      "cell_type": "markdown",
      "metadata": {
        "id": "hNJbVADalK0t"
      },
      "source": [
        "### **예약어(키워드)**\n",
        "* python에서 미리 선점하여 사용중인 키워드\n",
        "* 변수,함수,클래스 등 사용자 정의 이름으로 사용할수 없음"
      ]
    },
    {
      "cell_type": "code",
      "metadata": {
        "colab": {
          "base_uri": "https://localhost:8080/"
        },
        "id": "c5ZqCdDhlhrb",
        "outputId": "fc8fcbb2-c8e2-443f-cee0-3ffe4761ce2a"
      },
      "source": [
        "#for = 10 #for은 예약어로 변수 사용 불가\n",
        "_for = 100\n",
        "_for"
      ],
      "execution_count": null,
      "outputs": [
        {
          "output_type": "execute_result",
          "data": {
            "text/plain": [
              "100"
            ]
          },
          "metadata": {},
          "execution_count": 28
        }
      ]
    },
    {
      "cell_type": "markdown",
      "metadata": {
        "id": "miXBYOAtnW06"
      },
      "source": [
        "### **기본 데이터 타입**\n",
        "1. 정수형 int\n",
        "2. 실수(afloat) \n",
        "3. 문자열 str\n",
        "4. 불리언(boolean)\n"
      ]
    },
    {
      "cell_type": "code",
      "metadata": {
        "colab": {
          "base_uri": "https://localhost:8080/"
        },
        "id": "NUn9b4SyoO22",
        "outputId": "6fa16edd-3045-4da7-fade-0d8050a3a0dc"
      },
      "source": [
        "a = 10 # 정수형\n",
        "b = 15.6 #실수형\n",
        "c= \"2학기 회장은 세준이\" # 문자형\n",
        "d = a > b  # 불리언\n",
        "\n",
        "print(a,b,c,d)"
      ],
      "execution_count": 1,
      "outputs": [
        {
          "output_type": "stream",
          "text": [
            "10 15.6 2학기 회장은 세준이 False\n"
          ],
          "name": "stdout"
        }
      ]
    },
    {
      "cell_type": "markdown",
      "metadata": {
        "id": "MFhqhR0Ko6HQ"
      },
      "source": [
        "### **type() 함수**\n",
        "\n",
        "해당 변수, 값의 타입(type) 을 알고 자할 떄 사용하는 함수"
      ]
    },
    {
      "cell_type": "code",
      "metadata": {
        "colab": {
          "base_uri": "https://localhost:8080/"
        },
        "id": "A_hTb5RYpKF_",
        "outputId": "e09c60ad-237b-4e34-e0b5-0470fa8dde9f"
      },
      "source": [
        "print (type(a) ,type(b), type(c), type(d))\n"
      ],
      "execution_count": 2,
      "outputs": [
        {
          "output_type": "stream",
          "text": [
            "<class 'int'> <class 'float'> <class 'str'> <class 'bool'>\n"
          ],
          "name": "stdout"
        }
      ]
    },
    {
      "cell_type": "markdown",
      "metadata": {
        "id": "PRSgl_BOpgRv"
      },
      "source": [
        "### **None 타입**\n",
        "\n",
        "* 아물런 값을 갖지 않을 떄 사용\n",
        "* 일반적으로 변수가 초기값을 갖지 않게 하여 해당 변수를 생성할떄 사용\n",
        "* 다른 언어에서는 NULL 과 같은 의미로 사용"
      ]
    },
    {
      "cell_type": "code",
      "metadata": {
        "colab": {
          "base_uri": "https://localhost:8080/"
        },
        "id": "H_XebgSAqlQu",
        "outputId": "5ad2d059-f13a-402a-95a9-15808c1721b8"
      },
      "source": [
        "n = None\n",
        "print(n)"
      ],
      "execution_count": 3,
      "outputs": [
        {
          "output_type": "stream",
          "text": [
            "None\n"
          ],
          "name": "stdout"
        }
      ]
    },
    {
      "cell_type": "markdown",
      "metadata": {
        "id": "6RDE4YtAurKI"
      },
      "source": [
        "### **비교 연산자**\n",
        "- 프로그래밍에서는 '=' 이게 아니라 == 를 사용\n",
        "  - 예) 2학기 회장 == 상록 #참\n",
        "  - 작다, 크다 (>,<) \n",
        "  - 작거나 같다 크거나 같다 (=> , <=)\n",
        " - 같다 (==)\n",
        " - 같이 않다(!=)\n",
        "  - 예) 2학기 회장 != 지설 # 거짓\n",
        "  - 졀론적으로 비교 연산자 결화는 bool 타입으로 출력"
      ]
    },
    {
      "cell_type": "code",
      "metadata": {
        "colab": {
          "base_uri": "https://localhost:8080/"
        },
        "id": "obWyNd9uvXww",
        "outputId": "e30e48ba-d2b3-4f4d-ecdb-8a8144f6810f"
      },
      "source": [
        "ss = 76100\n",
        "nv = 434000\n",
        "\n",
        "print(ss>nv)\n",
        "print(nv>ss)\n",
        "\n",
        "print(nv<=ss)\n",
        "print(nv>=ss)\n",
        "\n",
        "print(nv==ss)\n",
        "print(nv!=ss)"
      ],
      "execution_count": 8,
      "outputs": [
        {
          "output_type": "stream",
          "text": [
            "False\n",
            "True\n",
            "False\n",
            "True\n",
            "False\n",
            "True\n"
          ],
          "name": "stdout"
        }
      ]
    },
    {
      "cell_type": "markdown",
      "metadata": {
        "id": "CsWkAiLRx0Ip"
      },
      "source": [
        "### **기본 연산자**\n",
        "\n",
        "a+b"
      ]
    },
    {
      "cell_type": "code",
      "metadata": {
        "colab": {
          "base_uri": "https://localhost:8080/"
        },
        "id": "JFf_WWd0x92P",
        "outputId": "ec133e95-6ba3-41f3-cca4-d5c7533a6067"
      },
      "source": [
        "print(ss + nv)\n",
        "print (ss - nv)\n",
        "print( ss * nv)\n",
        "print( ss / nv)\n",
        "print( nv % ss)\n",
        "\n",
        "a = 3\n",
        "b = 2\n",
        "\n",
        "print(a ** b)"
      ],
      "execution_count": 13,
      "outputs": [
        {
          "output_type": "stream",
          "text": [
            "510100\n",
            "-357900\n",
            "33027400000\n",
            "0.17534562211981566\n",
            "53500\n",
            "9\n"
          ],
          "name": "stdout"
        }
      ]
    },
    {
      "cell_type": "markdown",
      "metadata": {
        "id": "c1ilwYj7zI1o"
      },
      "source": [
        "### **연산자 우선순위**\n",
        "\n",
        "* 기본적으로 수학의 연산자와 동일\n",
        "* 먼저 연산을 위하여 괄호()를 사용"
      ]
    },
    {
      "cell_type": "code",
      "metadata": {
        "colab": {
          "base_uri": "https://localhost:8080/"
        },
        "id": "ijBWZP0wzTAZ",
        "outputId": "43740b8c-096a-4ebf-a2fc-81fcf02c3dd6"
      },
      "source": [
        "a = 5\n",
        "b = 4\n",
        "print(a+b*50)\n",
        "print((a+b)*50)"
      ],
      "execution_count": 16,
      "outputs": [
        {
          "output_type": "stream",
          "text": [
            "205\n",
            "450\n"
          ],
          "name": "stdout"
        }
      ]
    },
    {
      "cell_type": "markdown",
      "metadata": {
        "id": "3Fjte2wz9PNA"
      },
      "source": [
        "### **학습목표**\n",
        "1. 문자열(str)타입 이해하기 \n"
      ]
    },
    {
      "cell_type": "markdown",
      "metadata": {
        "id": "FlBTs2kP9tgy"
      },
      "source": [
        "### **문자열(str)**\n",
        "- 여러 개의 문자를 순서대로 나열한 것\n",
        "- 문자열은'(작은따움표)' 혹은 \"\"(큰따움표) 사이에 문자를 넣어서 생성\n",
        "-' , \"    \"\"\"(여러번 쓸경우) :여저줄에 걸쳐 문자열이 표현 가능\n",
        "- 문자열 자체에 ',\" 있을경우에는 그 반대의 기호로 생성"
      ]
    },
    {
      "cell_type": "code",
      "metadata": {
        "colab": {
          "base_uri": "https://localhost:8080/"
        },
        "id": "5-Zfshkb-Ke5",
        "outputId": "7d1ee4f0-066b-4c4a-f65d-0cd040015a12"
      },
      "source": [
        "a = \"hello' world\"\n",
        "b = 'hello\" world'\n",
        "\n",
        "c = '''hello world\n",
        "\n",
        "it is hayoung'''\n",
        "\n",
        "d = \"\"\"hello world\n",
        "\n",
        "it is hayoung\"\"\"\n",
        "\n",
        "print (a)\n",
        "print (b)\n",
        "print (c)\n",
        "print (d)"
      ],
      "execution_count": 26,
      "outputs": [
        {
          "output_type": "stream",
          "text": [
            "hello' world\n",
            "hello\" world\n",
            "hello world\n",
            "\n",
            "it is hayoung\n",
            "hello world\n",
            "\n",
            "it is hayoung\n"
          ],
          "name": "stdout"
        }
      ]
    },
    {
      "cell_type": "markdown",
      "metadata": {
        "id": "48K-khkSBAMB"
      },
      "source": [
        "**이스케이프(escape) 문자**\n",
        "\n",
        "* '탈출 효과' 를 주기 위해 문자열 내부에 넣는다\n",
        "* \\n 앤터(다음줄)\n",
        "'\\ㅅ' : tab"
      ]
    },
    {
      "cell_type": "code",
      "metadata": {
        "colab": {
          "base_uri": "https://localhost:8080/"
        },
        "id": "RQ0kzbNHBv7Z",
        "outputId": "d68fd319-33ff-4bc7-b58e-186262ba5968"
      },
      "source": [
        "print('hello\\n\\n world')\n",
        "print('이렇게 앤터를 \\n\\n치면 됩니다')\n",
        "print('2학기 회장:\\t 오상록')\n",
        "print('1학기 회장 \\t 전지설')"
      ],
      "execution_count": 31,
      "outputs": [
        {
          "output_type": "stream",
          "text": [
            "hello\n",
            "\n",
            " world\n",
            "이렇게 앤터를 \n",
            "\n",
            "치면 됩니다\n",
            "2학기 회장:\t 오상록\n",
            "1학기 회장 \t 전지설\n"
          ],
          "name": "stdout"
        }
      ]
    },
    {
      "cell_type": "code",
      "metadata": {
        "id": "oMDo952jB2Pr"
      },
      "source": [
        ""
      ],
      "execution_count": 27,
      "outputs": []
    }
  ]
}