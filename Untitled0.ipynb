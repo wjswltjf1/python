{
  "nbformat": 4,
  "nbformat_minor": 0,
  "metadata": {
    "colab": {
      "name": "Untitled0.ipynb",
      "provenance": [],
      "authorship_tag": "ABX9TyNsMAM5PZUvwJuGpvouOzsY",
      "include_colab_link": true
    },
    "kernelspec": {
      "name": "python3",
      "display_name": "Python 3"
    },
    "language_info": {
      "name": "python"
    }
  },
  "cells": [
    {
      "cell_type": "markdown",
      "metadata": {
        "id": "view-in-github",
        "colab_type": "text"
      },
      "source": [
        "<a href=\"https://colab.research.google.com/github/wjswltjf1/python/blob/main/Untitled0.ipynb\" target=\"_parent\"><img src=\"https://colab.research.google.com/assets/colab-badge.svg\" alt=\"Open In Colab\"/></a>"
      ]
    },
    {
      "cell_type": "code",
      "metadata": {
        "id": "PTwNCM7bbObn"
      },
      "source": [
        ""
      ],
      "execution_count": null,
      "outputs": []
    },
    {
      "cell_type": "markdown",
      "metadata": {
        "id": "IJo0U05fbvGf"
      },
      "source": [
        "###**학습목표**\n",
        "\n",
        "1. python 언어에서 변수의 의미를 이해하기\n",
        "2. 기본 데이터 타입을 선언하기(int,float,str,bool)\n",
        "\n",
        "더블클릭 또는 Enter 키를 눌러 수정"
      ]
    },
    {
      "cell_type": "code",
      "metadata": {
        "id": "aXLnHR2Vbr1X"
      },
      "source": [
        ""
      ],
      "execution_count": null,
      "outputs": []
    },
    {
      "cell_type": "markdown",
      "metadata": {
        "id": "ppVJDVatc2Pj"
      },
      "source": [
        "### ***대입연산자***\n",
        "\n",
        "1.\n",
        "\n",
        "*   대입의 경우, 오른쪽의 수식이나 값을 계산한 뒤, 왼쪽 변수에 값을 대입\n",
        "*   변수는 해당 값을 가지게 된다\n",
        "\n"
      ]
    },
    {
      "cell_type": "code",
      "metadata": {
        "id": "KTNKfqZrdV8p"
      },
      "source": [
        "a = 10 #int\n",
        "b = 11.4 #f loat"
      ],
      "execution_count": null,
      "outputs": []
    },
    {
      "cell_type": "code",
      "metadata": {
        "colab": {
          "base_uri": "https://localhost:8080/"
        },
        "id": "r2X8dxmtdmlo",
        "outputId": "fbc4f864-da4e-474a-9a6c-f924a2105284"
      },
      "source": [
        "print(a)"
      ],
      "execution_count": null,
      "outputs": [
        {
          "output_type": "stream",
          "text": [
            "10\n"
          ],
          "name": "stdout"
        }
      ]
    },
    {
      "cell_type": "code",
      "metadata": {
        "id": "JWu5aM7wdoQQ"
      },
      "source": [
        ""
      ],
      "execution_count": null,
      "outputs": []
    },
    {
      "cell_type": "markdown",
      "metadata": {
        "id": "zJByppOTerIz"
      },
      "source": [
        "### ***주석(comment)***\n",
        "* 코드에서 #으로 시작하는 뒷부분은 실행 안함\n",
        "*python이 실행할때 #만나면 무시\n",
        "*개발자(사람)이 보기 위한 용도로 사용"
      ]
    },
    {
      "cell_type": "code",
      "metadata": {
        "id": "9jUGD1q5fFcy"
      },
      "source": [
        "#상록이 수학점수\n",
        "#지우지 마세요\n",
        "math = 11\n",
        "engl = 57.8"
      ],
      "execution_count": null,
      "outputs": []
    },
    {
      "cell_type": "markdown",
      "metadata": {
        "id": "7sFdO1GwgV_L"
      },
      "source": [
        "### **pr int 함수**\n",
        "* 함수란 특정 기능을 반복적으로 호출하여 사용 가능한 코드블럭\n",
        "* 해당 변수 값이 출력\n",
        "* 기분적으로는 한칸 띄어쓰기 후 출력"
      ]
    },
    {
      "cell_type": "code",
      "metadata": {
        "colab": {
          "base_uri": "https://localhost:8080/"
        },
        "id": "aqrFsTRugiwA",
        "outputId": "2f17b823-3a66-4223-9f15-0d859de350ee"
      },
      "source": [
        "print(a,b)"
      ],
      "execution_count": null,
      "outputs": [
        {
          "output_type": "stream",
          "text": [
            "10 11.4\n"
          ],
          "name": "stdout"
        }
      ]
    },
    {
      "cell_type": "code",
      "metadata": {
        "colab": {
          "base_uri": "https://localhost:8080/"
        },
        "id": "I1FTyAITgxR6",
        "outputId": "3b745a9e-24e3-4e66-898c-378ddba83783"
      },
      "source": [
        "print(engl, 20, \"하영썜\")"
      ],
      "execution_count": null,
      "outputs": [
        {
          "output_type": "stream",
          "text": [
            "57.8 20 하영썜\n"
          ],
          "name": "stdout"
        }
      ]
    },
    {
      "cell_type": "code",
      "metadata": {
        "id": "puMOyNwbhId5"
      },
      "source": [
        "  "
      ],
      "execution_count": null,
      "outputs": []
    },
    {
      "cell_type": "markdown",
      "metadata": {
        "id": "uZ8zwClihuht"
      },
      "source": [
        "#### **변수 값 확인 방법**\n",
        "1. print() 함수 사용\n",
        "2.변수 값을 코드의 마지막에 위치 시킨 후 실햏\n",
        " - 이경우 변수의 값이 출력된다"
      ]
    },
    {
      "cell_type": "markdown",
      "metadata": {
        "id": "TQQWwafRjN6O"
      },
      "source": [
        ""
      ]
    },
    {
      "cell_type": "markdown",
      "metadata": {
        "id": "zPO4JRlojUkK"
      },
      "source": [
        "### **변수 이용 규칙**\n",
        "  * 숫자로 시작하는 이름을 제외하고 영문 대소문자,_, 숫자로 구성 가능*변수 이용 규칙**\n",
        "    * 숫자로 시작하는 이름을 제외하고 영문 대소문자,_, 숫자로 구성 가능\n",
        "     - 숫자로 시작은 안된다!\n",
        "     *일반적으로 변수를 표현할떄 정확하고 간결한 이름을 사용하여 쉽게 이해하도록 설정한다\n",
        "     - 예)a=900 hy_student_num = 900 으로 명시하는 것이 이해가 빠르다."
      ]
    },
    {
      "cell_type": "code",
      "metadata": {
        "id": "fU8XPFH0knfM"
      },
      "source": [
        "abAB = 100\n",
        "#4_num = 10 # 숫자로 시작하여 실행 안됨\n",
        "ABab = 200\n",
        "_right = 800"
      ],
      "execution_count": null,
      "outputs": []
    },
    {
      "cell_type": "markdown",
      "metadata": {
        "id": "hNJbVADalK0t"
      },
      "source": [
        "### **예약어(키워드)**\n",
        "* python에서 미리 선점하여 사용중인 키워드\n",
        "* 변수,함수,클래스 등 사용자 정의 이름으로 사용할수 없음"
      ]
    },
    {
      "cell_type": "code",
      "metadata": {
        "colab": {
          "base_uri": "https://localhost:8080/"
        },
        "id": "c5ZqCdDhlhrb",
        "outputId": "fc8fcbb2-c8e2-443f-cee0-3ffe4761ce2a"
      },
      "source": [
        "#for = 10 #for은 예약어로 변수 사용 불가\n",
        "_for = 100\n",
        "_for"
      ],
      "execution_count": null,
      "outputs": [
        {
          "output_type": "execute_result",
          "data": {
            "text/plain": [
              "100"
            ]
          },
          "metadata": {},
          "execution_count": 28
        }
      ]
    },
    {
      "cell_type": "code",
      "metadata": {
        "id": "RhmmAEfml3Dz"
      },
      "source": [
        ""
      ],
      "execution_count": null,
      "outputs": []
    }
  ]
}