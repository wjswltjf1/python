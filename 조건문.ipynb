{
  "nbformat": 4,
  "nbformat_minor": 0,
  "metadata": {
    "colab": {
      "name": "Untitled4.ipynb",
      "provenance": [],
      "authorship_tag": "ABX9TyOyBqtBkkrIi/1GwmbbpZBI",
      "include_colab_link": true
    },
    "kernelspec": {
      "name": "python3",
      "display_name": "Python 3"
    },
    "language_info": {
      "name": "python"
    }
  },
  "cells": [
    {
      "cell_type": "markdown",
      "metadata": {
        "id": "view-in-github",
        "colab_type": "text"
      },
      "source": [
        "<a href=\"https://colab.research.google.com/github/wjswltjf1/python/blob/main/%EC%A1%B0%EA%B1%B4%EB%AC%B8.ipynb\" target=\"_parent\"><img src=\"https://colab.research.google.com/assets/colab-badge.svg\" alt=\"Open In Colab\"/></a>"
      ]
    },
    {
      "cell_type": "markdown",
      "metadata": {
        "id": "5qicju09d7aX"
      },
      "source": [
        "### **학습목표**\n",
        "* 조건문 이해 및 활용"
      ]
    },
    {
      "cell_type": "markdown",
      "metadata": {
        "id": "Ebam-JcQeJKz"
      },
      "source": [
        "#### ** 조건문(if)**\n",
        "\n",
        "- 특정 조건을 만족하는 경우에 수핼할 작업이 있는 경우 사용\n",
        "- 참, 거짓 으로 표현된다\n",
        "- if, elif, else 키워드 사용\n",
        "- 조건문의 경우 즐여쓰기로 하나의 블록을 만들고, 여서 종속된 코드로 사용해서 중첩 코드가 가능.\n",
        "\n",
        "- `블록(block)` : 들여쓰기 된 코드\n",
        "- 모든 블록의 시작과 마지막에는 **:(콜론:cloln)**이 필요\n"
      ]
    },
    {
      "cell_type": "code",
      "metadata": {
        "colab": {
          "base_uri": "https://localhost:8080/"
        },
        "id": "YMn8gzKMgql5",
        "outputId": "0fa64cd3-41d5-4d6b-ae6a-96b7c456bc21"
      },
      "source": [
        "if 10>20: #거짓\n",
        "  print(\"참입니다\")\n",
        "print(\"거짓입니다\")"
      ],
      "execution_count": null,
      "outputs": [
        {
          "output_type": "stream",
          "text": [
            "거짓입니다\n"
          ],
          "name": "stdout"
        }
      ]
    },
    {
      "cell_type": "markdown",
      "metadata": {
        "id": "zCo4n0yri_Hz"
      },
      "source": [
        "### **if, else**\n",
        "\n",
        "- if가 아닌 경우 , 나머지 조건을 표현하고 싶을떄\n",
        "- if 조건이 참(true)인 경우 if 블록안의 코드가 수행\n",
        "  - 거짓(False)인 경우 else 블록의 코드가 수행\n",
        "-`주의!`if와 else 사이의 다른 코드가 삽입 불가"
      ]
    },
    {
      "cell_type": "code",
      "metadata": {
        "colab": {
          "base_uri": "https://localhost:8080/"
        },
        "id": "6ZgcXTPDkVC7",
        "outputId": "bbc04349-2919-4784-f583-7564b01934ea"
      },
      "source": [
        "#짝수인 경우 짝수, 홀수인 경우 훌수 를 출력하는 프로그램을 작성하시오\n",
        "\n",
        "a = 5\n",
        "\n",
        "if a % 2 == 0 : #나머지가 0인경우(참)\n",
        "  print('짝수!')\n",
        "else:\n",
        "  print('홀수!')"
      ],
      "execution_count": null,
      "outputs": [
        {
          "output_type": "stream",
          "text": [
            "홀수!\n"
          ],
          "name": "stdout"
        }
      ]
    },
    {
      "cell_type": "markdown",
      "metadata": {
        "id": "UwrIxF5ysRL9"
      },
      "source": [
        "### **if,elif,else**\n",
        "\n",
        "- 조건이 여러개인 경우, elif으로 처리 가능\n",
        "- elif의 가 조건을 확인 후, ture인 조건의 코드 블록을 실행\n"
      ]
    },
    {
      "cell_type": "code",
      "metadata": {
        "colab": {
          "base_uri": "https://localhost:8080/"
        },
        "id": "QXuTkJLMstAN",
        "outputId": "af9ad238-f1e0-42e0-f51b-774ddc1dece6"
      },
      "source": [
        "score = 100  #점수\n",
        "\n",
        "if score == 100:\n",
        "  print(\"치킨먹는 날\")\n",
        "elif score >=90 :\n",
        "  print(\"성적 : A\")\n",
        "elif score >=80:\n",
        "  print(\"성적 : B\")\n",
        "elif score >=70:\n",
        "  print(\"성적 : C\")\n",
        "elif score >=60:\n",
        "  print(\"성적 : D\")\n",
        "else :\n",
        "  print(\"성적 : F\")\n",
        "print(\"수고하셨습니다.\")\n"
      ],
      "execution_count": null,
      "outputs": [
        {
          "output_type": "stream",
          "text": [
            "치킨먹는 날\n",
            "수고하셨습니다.\n"
          ],
          "name": "stdout"
        }
      ]
    },
    {
      "cell_type": "code",
      "metadata": {
        "id": "gfobKD7EtHUU"
      },
      "source": [
        ""
      ],
      "execution_count": null,
      "outputs": []
    }
  ]
}