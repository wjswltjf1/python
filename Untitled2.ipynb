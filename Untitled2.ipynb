{
  "nbformat": 4,
  "nbformat_minor": 0,
  "metadata": {
    "colab": {
      "name": "Untitled2.ipynb",
      "provenance": [],
      "authorship_tag": "ABX9TyN/J5ILf2arZI9Ch+8cBhtb",
      "include_colab_link": true
    },
    "kernelspec": {
      "name": "python3",
      "display_name": "Python 3"
    },
    "language_info": {
      "name": "python"
    }
  },
  "cells": [
    {
      "cell_type": "markdown",
      "metadata": {
        "id": "view-in-github",
        "colab_type": "text"
      },
      "source": [
        "<a href=\"https://colab.research.google.com/github/wjswltjf1/python/blob/main/Untitled2.ipynb\" target=\"_parent\"><img src=\"https://colab.research.google.com/assets/colab-badge.svg\" alt=\"Open In Colab\"/></a>"
      ]
    },
    {
      "cell_type": "code",
      "metadata": {
        "id": "x6FJcAjgtxh7"
      },
      "source": [
        "#1 파이썬 변수로 사용할수 없는것은?\n",
        "\n",
        "_num = 1\n",
        "num = 2 \n",
        "num = 3\n",
        "#2num = 3\n",
        "#앞에 숫자는 올수없다.\n",
        "n_um = 3"
      ],
      "execution_count": 1,
      "outputs": []
    },
    {
      "cell_type": "code",
      "metadata": {
        "colab": {
          "base_uri": "https://localhost:8080/"
        },
        "id": "GWKYCiVZvQFD",
        "outputId": "3594c859-fbba-494f-eb20-1497de2c7c32"
      },
      "source": [
        "#2각 변수에 저장된 최종값은?\n",
        "sum = 0\n",
        "n1 = 10\n",
        "n1 = n1+10\n",
        "n2 = 20\n",
        "n2 = 20\n",
        "num = n1+n2\n",
        "print(n1,n2,sum)"
      ],
      "execution_count": 4,
      "outputs": [
        {
          "output_type": "stream",
          "name": "stdout",
          "text": [
            "20 20 0\n"
          ]
        }
      ]
    },
    {
      "cell_type": "code",
      "metadata": {
        "colab": {
          "base_uri": "https://localhost:8080/"
        },
        "id": "fdwHeoXivkJa",
        "outputId": "09b2d731-b572-4bf0-898f-e3abdf196c54"
      },
      "source": [
        "#3적절한 연산자 찾기\n",
        "print(17//4)\n",
        "print(17/4)\n",
        "print(17%4)"
      ],
      "execution_count": 6,
      "outputs": [
        {
          "output_type": "stream",
          "name": "stdout",
          "text": [
            "4\n",
            "4.25\n",
            "1\n"
          ]
        }
      ]
    },
    {
      "cell_type": "code",
      "metadata": {
        "colab": {
          "base_uri": "https://localhost:8080/"
        },
        "id": "LO4ASzkp0L05",
        "outputId": "4ac2c66c-332e-4477-9844-84d0007912b7"
      },
      "source": [
        "#4 클래스 타입찾기\n",
        "#age = 17\n",
        "age = 17,7\n",
        "print(type(type(age)))"
      ],
      "execution_count": 7,
      "outputs": [
        {
          "output_type": "stream",
          "name": "stdout",
          "text": [
            "<class 'type'>\n"
          ]
        }
      ]
    },
    {
      "cell_type": "code",
      "metadata": {
        "colab": {
          "base_uri": "https://localhost:8080/"
        },
        "id": "e2zzVDEZ0zrq",
        "outputId": "edeaa01b-4151-4a23-ad48-014be611fc7e"
      },
      "source": [
        "#5문자역 인덱싱\n",
        "s = \"Hello Hanyang!\"\n",
        "print( s[5], s[-5])"
      ],
      "execution_count": 9,
      "outputs": [
        {
          "output_type": "stream",
          "name": "stdout",
          "text": [
            "  y\n"
          ]
        }
      ]
    },
    {
      "cell_type": "code",
      "metadata": {
        "colab": {
          "base_uri": "https://localhost:8080/"
        },
        "id": "q-Y07p4n1gpb",
        "outputId": "3e8702a8-e9c4-49f2-9022-db2ac505ac08"
      },
      "source": [
        "#6 upper()함수와 분자열 슬라이싱\n",
        "s = \"Hello Hanyang\"\n",
        "print(s)\n",
        "s  = s.upper()\n",
        "print(s)\n",
        "print(s[:8])\n",
        "print(s[8:])\n",
        "print(s[1:10])"
      ],
      "execution_count": 13,
      "outputs": [
        {
          "output_type": "stream",
          "name": "stdout",
          "text": [
            "Hello Hanyang\n",
            "HELLO HANYANG\n",
            "HELLO HA\n",
            "NYANG\n",
            "ELLO HANY\n"
          ]
        }
      ]
    },
    {
      "cell_type": "code",
      "metadata": {
        "id": "tahJ9A7Q2EZz"
      },
      "source": [
        "# 7 다음중 여러 데이터를 다루는 팜이썬 자료형\n",
        "#리스트,튜플,딕셔너리,셋"
      ],
      "execution_count": 14,
      "outputs": []
    },
    {
      "cell_type": "code",
      "metadata": {
        "colab": {
          "base_uri": "https://localhost:8080/"
        },
        "id": "M9xbZtbG3KrI",
        "outputId": "0a5404d9-1d7e-4d50-fc15-c4f08e05ca6d"
      },
      "source": [
        "# 8~9 리스트\n",
        "a = ['a',1,'python',(1,2),'2',[1,2]]\n",
        "print(a[3])\n",
        "print(1 in a, 2 in a)"
      ],
      "execution_count": 18,
      "outputs": [
        {
          "output_type": "stream",
          "name": "stdout",
          "text": [
            "(1, 2)\n",
            "True False\n"
          ]
        }
      ]
    },
    {
      "cell_type": "code",
      "metadata": {
        "colab": {
          "base_uri": "https://localhost:8080/"
        },
        "id": "TYQ5Yrak3jZJ",
        "outputId": "54909b11-ec7a-4411-cb0a-20bc3b90ed1f"
      },
      "source": [
        "# 10 파이썬 코드\n",
        "nums = list(range(4))\n",
        "print(nums)\n",
        "nums.insert(3,100)\n",
        "print(nums)"
      ],
      "execution_count": 21,
      "outputs": [
        {
          "output_type": "stream",
          "name": "stdout",
          "text": [
            "[0, 1, 2, 3]\n",
            "[0, 1, 2, 100, 3]\n"
          ]
        }
      ]
    },
    {
      "cell_type": "code",
      "metadata": {
        "colab": {
          "base_uri": "https://localhost:8080/"
        },
        "id": "XX1_UcGb4ijE",
        "outputId": "e80c2155-55a6-4f8f-da21-45d3f7cb38cd"
      },
      "source": [
        "# 11 변수의 최종값\n",
        "a = 100\n",
        "b = 200\n",
        "a,b = b,a\n",
        "print(a,b)"
      ],
      "execution_count": 23,
      "outputs": [
        {
          "output_type": "stream",
          "name": "stdout",
          "text": [
            "200 100\n"
          ]
        }
      ]
    },
    {
      "cell_type": "code",
      "metadata": {
        "colab": {
          "base_uri": "https://localhost:8080/"
        },
        "id": "UGXQvt0m5RwC",
        "outputId": "c4fb93ad-e672-4458-de25-bbbad655d587"
      },
      "source": [
        "#12  딕셔너리\n",
        "\n",
        "a = {'han':1, 1:2, '1':3}\n",
        "a[1] = 'yang'\n",
        "print(a)"
      ],
      "execution_count": 27,
      "outputs": [
        {
          "output_type": "stream",
          "name": "stdout",
          "text": [
            "{'han': 1, 1: 'yang', '1': 3}\n"
          ]
        }
      ]
    },
    {
      "cell_type": "code",
      "metadata": {
        "colab": {
          "base_uri": "https://localhost:8080/"
        },
        "id": "y8pW6Xos6K4T",
        "outputId": "1e9f5b91-c8ef-4b86-9888-eb90df604b9f"
      },
      "source": [
        "#13 셋\n",
        "a = set ([1,1,1,1,1,1,1,1,1,1,1,1,1,1,1,1,1,1,1,1,2,3])\n",
        "print(a)\n",
        "b = set ('Hello')\n",
        "print(b)"
      ],
      "execution_count": 28,
      "outputs": [
        {
          "output_type": "stream",
          "name": "stdout",
          "text": [
            "{1, 2, 3}\n",
            "{'e', 'H', 'o', 'l'}\n"
          ]
        }
      ]
    },
    {
      "cell_type": "code",
      "metadata": {
        "colab": {
          "base_uri": "https://localhost:8080/"
        },
        "id": "vja3Maxc7ueS",
        "outputId": "3866ba68-0b2a-4e1d-c9db-2dfc35a504a4"
      },
      "source": [
        "room = [[0,0,1,0,0,],\n",
        "        [1,0,1,0,1],\n",
        "        [0,1,1,1,9]]\n",
        "        \n",
        "mouse = room[0][2]\n",
        "\n",
        "if mouse == 1:\n",
        "  print(\"cheese\")\n",
        "elif mouse == 9:\n",
        "  print(\"ttap\")\n",
        "else:\n",
        "  print(\"nothing\")"
      ],
      "execution_count": 31,
      "outputs": [
        {
          "output_type": "stream",
          "name": "stdout",
          "text": [
            "cheese\n"
          ]
        }
      ]
    },
    {
      "cell_type": "code",
      "metadata": {
        "colab": {
          "base_uri": "https://localhost:8080/"
        },
        "id": "pxVHTARpCKnq",
        "outputId": "b846e27f-0e5a-4ee3-9d96-29b3a90bc9aa"
      },
      "source": [
        "#16~17\n",
        "\n",
        "a = 0\n",
        "b = 0\n",
        "\n",
        "for i in range(3,9):\n",
        "  if i%2 == 0 and i % 3 ==0:\n",
        "    continue\n",
        "  elif i%2 ==0:\n",
        "    a += 1\n",
        "  elif i%3 ==0:\n",
        "    b+=1\n",
        "print(a,b)"
      ],
      "execution_count": 35,
      "outputs": [
        {
          "output_type": "stream",
          "name": "stdout",
          "text": [
            "2 1\n"
          ]
        }
      ]
    },
    {
      "cell_type": "code",
      "metadata": {
        "colab": {
          "base_uri": "https://localhost:8080/"
        },
        "id": "w1NqYwxBEmMy",
        "outputId": "5deb9acd-b48a-4883-944f-a4ae4b3e3f17"
      },
      "source": [
        "#18~20\n",
        "\n",
        "print(\"메뉴번호 1.쿠키(300원) 2. 짬뽕(500원) 3. 치킨(700원)\")\n",
        "\n",
        "money = int(input(\"투입금액: \"))\n",
        "menu = int(input(\"매뉴번호: \"))\n",
        "\n",
        "if menu == 1:\n",
        "  money = money-300\n",
        "elif menu == 2:\n",
        "  money = money-500\n",
        "elif menu == 3:\n",
        "  money -=700\n",
        "\n",
        "if money <0:\n",
        "  print(\"금액이부족하다. 노예야\")\n",
        "else:\n",
        "  won1000 = money//1000\n",
        "  won500 = (money%1000)//500\n",
        "  won100 = ((money%1000)%500)//100\n",
        "  print( \"거스름돈: 1000원{}개, 500원{}개, 100원{}개\".format(won1000,won500,won100))\n"
      ],
      "execution_count": 51,
      "outputs": [
        {
          "output_type": "stream",
          "name": "stdout",
          "text": [
            "메뉴번호 1.쿠키(300원) 2. 짬뽕(500원) 3. 치킨(700원)\n",
            "투입금액: 5000\n",
            "매뉴번호: 2\n",
            "거스름돈: 1000원4개, 500원1개, 100원0개\n"
          ]
        }
      ]
    },
    {
      "cell_type": "code",
      "metadata": {
        "id": "A4eiZBpFF8bB"
      },
      "source": [
        "2"
      ],
      "execution_count": null,
      "outputs": []
    }
  ]
}